{
 "cells": [
  {
   "cell_type": "code",
   "execution_count": 1,
   "metadata": {},
   "outputs": [
    {
     "data": {
      "text/html": [
       "<div>\n",
       "<style scoped>\n",
       "    .dataframe tbody tr th:only-of-type {\n",
       "        vertical-align: middle;\n",
       "    }\n",
       "\n",
       "    .dataframe tbody tr th {\n",
       "        vertical-align: top;\n",
       "    }\n",
       "\n",
       "    .dataframe thead th {\n",
       "        text-align: right;\n",
       "    }\n",
       "</style>\n",
       "<table border=\"1\" class=\"dataframe\">\n",
       "  <thead>\n",
       "    <tr style=\"text-align: right;\">\n",
       "      <th></th>\n",
       "      <th>tripduration</th>\n",
       "      <th>starttime</th>\n",
       "      <th>stoptime</th>\n",
       "      <th>start_station_id</th>\n",
       "      <th>start_station_name</th>\n",
       "      <th>start_station_latitude</th>\n",
       "      <th>start_station_longitude</th>\n",
       "      <th>end_station_id</th>\n",
       "      <th>end_station_name</th>\n",
       "      <th>end_station_latitude</th>\n",
       "      <th>end_station_longitude</th>\n",
       "      <th>bikeid</th>\n",
       "      <th>usertype</th>\n",
       "      <th>birth_year</th>\n",
       "      <th>gender</th>\n",
       "    </tr>\n",
       "  </thead>\n",
       "  <tbody>\n",
       "    <tr>\n",
       "      <th>0</th>\n",
       "      <td>201</td>\n",
       "      <td>2019-01-01 03:09:09.7110</td>\n",
       "      <td>2019-01-01 03:12:30.8790</td>\n",
       "      <td>3183</td>\n",
       "      <td>Exchange Place</td>\n",
       "      <td>40.716247</td>\n",
       "      <td>-74.033459</td>\n",
       "      <td>3214</td>\n",
       "      <td>Essex Light Rail</td>\n",
       "      <td>40.712774</td>\n",
       "      <td>-74.036486</td>\n",
       "      <td>29612</td>\n",
       "      <td>Subscriber</td>\n",
       "      <td>1993</td>\n",
       "      <td>1</td>\n",
       "    </tr>\n",
       "    <tr>\n",
       "      <th>1</th>\n",
       "      <td>505</td>\n",
       "      <td>2019-01-01 05:18:00.1060</td>\n",
       "      <td>2019-01-01 05:26:25.9050</td>\n",
       "      <td>3183</td>\n",
       "      <td>Exchange Place</td>\n",
       "      <td>40.716247</td>\n",
       "      <td>-74.033459</td>\n",
       "      <td>3638</td>\n",
       "      <td>Washington St</td>\n",
       "      <td>40.724294</td>\n",
       "      <td>-74.035483</td>\n",
       "      <td>29213</td>\n",
       "      <td>Subscriber</td>\n",
       "      <td>1972</td>\n",
       "      <td>2</td>\n",
       "    </tr>\n",
       "    <tr>\n",
       "      <th>2</th>\n",
       "      <td>756</td>\n",
       "      <td>2019-01-01 10:36:33.3400</td>\n",
       "      <td>2019-01-01 10:49:10.2600</td>\n",
       "      <td>3183</td>\n",
       "      <td>Exchange Place</td>\n",
       "      <td>40.716247</td>\n",
       "      <td>-74.033459</td>\n",
       "      <td>3192</td>\n",
       "      <td>Liberty Light Rail</td>\n",
       "      <td>40.711242</td>\n",
       "      <td>-74.055701</td>\n",
       "      <td>26164</td>\n",
       "      <td>Subscriber</td>\n",
       "      <td>1985</td>\n",
       "      <td>1</td>\n",
       "    </tr>\n",
       "    <tr>\n",
       "      <th>3</th>\n",
       "      <td>1575</td>\n",
       "      <td>2019-01-01 12:43:38.6430</td>\n",
       "      <td>2019-01-01 13:09:54.5280</td>\n",
       "      <td>3183</td>\n",
       "      <td>Exchange Place</td>\n",
       "      <td>40.716247</td>\n",
       "      <td>-74.033459</td>\n",
       "      <td>3638</td>\n",
       "      <td>Washington St</td>\n",
       "      <td>40.724294</td>\n",
       "      <td>-74.035483</td>\n",
       "      <td>29672</td>\n",
       "      <td>Customer</td>\n",
       "      <td>1969</td>\n",
       "      <td>0</td>\n",
       "    </tr>\n",
       "    <tr>\n",
       "      <th>4</th>\n",
       "      <td>1566</td>\n",
       "      <td>2019-01-01 12:43:39.6010</td>\n",
       "      <td>2019-01-01 13:09:46.5100</td>\n",
       "      <td>3183</td>\n",
       "      <td>Exchange Place</td>\n",
       "      <td>40.716247</td>\n",
       "      <td>-74.033459</td>\n",
       "      <td>3638</td>\n",
       "      <td>Washington St</td>\n",
       "      <td>40.724294</td>\n",
       "      <td>-74.035483</td>\n",
       "      <td>29522</td>\n",
       "      <td>Customer</td>\n",
       "      <td>1969</td>\n",
       "      <td>0</td>\n",
       "    </tr>\n",
       "  </tbody>\n",
       "</table>\n",
       "</div>"
      ],
      "text/plain": [
       "   tripduration                 starttime                  stoptime  \\\n",
       "0           201  2019-01-01 03:09:09.7110  2019-01-01 03:12:30.8790   \n",
       "1           505  2019-01-01 05:18:00.1060  2019-01-01 05:26:25.9050   \n",
       "2           756  2019-01-01 10:36:33.3400  2019-01-01 10:49:10.2600   \n",
       "3          1575  2019-01-01 12:43:38.6430  2019-01-01 13:09:54.5280   \n",
       "4          1566  2019-01-01 12:43:39.6010  2019-01-01 13:09:46.5100   \n",
       "\n",
       "   start_station_id start_station_name  start_station_latitude  \\\n",
       "0              3183     Exchange Place               40.716247   \n",
       "1              3183     Exchange Place               40.716247   \n",
       "2              3183     Exchange Place               40.716247   \n",
       "3              3183     Exchange Place               40.716247   \n",
       "4              3183     Exchange Place               40.716247   \n",
       "\n",
       "   start_station_longitude  end_station_id    end_station_name  \\\n",
       "0               -74.033459            3214    Essex Light Rail   \n",
       "1               -74.033459            3638       Washington St   \n",
       "2               -74.033459            3192  Liberty Light Rail   \n",
       "3               -74.033459            3638       Washington St   \n",
       "4               -74.033459            3638       Washington St   \n",
       "\n",
       "   end_station_latitude  end_station_longitude  bikeid    usertype  \\\n",
       "0             40.712774             -74.036486   29612  Subscriber   \n",
       "1             40.724294             -74.035483   29213  Subscriber   \n",
       "2             40.711242             -74.055701   26164  Subscriber   \n",
       "3             40.724294             -74.035483   29672    Customer   \n",
       "4             40.724294             -74.035483   29522    Customer   \n",
       "\n",
       "   birth_year  gender  \n",
       "0        1993       1  \n",
       "1        1972       2  \n",
       "2        1985       1  \n",
       "3        1969       0  \n",
       "4        1969       0  "
      ]
     },
     "execution_count": 1,
     "metadata": {},
     "output_type": "execute_result"
    }
   ],
   "source": [
    "import pandas as pd\n",
    "df = pd.read_csv('JC-201901-citibike-tripdata.csv')\n",
    "df.head(5)\n",
    "df.columns = [c.replace(' ', '_') for c in df.columns]\n",
    "df.head(5)"
   ]
  },
  {
   "cell_type": "code",
   "execution_count": 2,
   "metadata": {},
   "outputs": [
    {
     "name": "stdout",
     "output_type": "stream",
     "text": [
      "Dimensions in df:\n"
     ]
    },
    {
     "data": {
      "text/plain": [
       "(19676, 15)"
      ]
     },
     "execution_count": 2,
     "metadata": {},
     "output_type": "execute_result"
    }
   ],
   "source": [
    "print('Dimensions in df:'); df.shape"
   ]
  },
  {
   "cell_type": "code",
   "execution_count": 3,
   "metadata": {},
   "outputs": [
    {
     "data": {
      "text/html": [
       "<div>\n",
       "<style scoped>\n",
       "    .dataframe tbody tr th:only-of-type {\n",
       "        vertical-align: middle;\n",
       "    }\n",
       "\n",
       "    .dataframe tbody tr th {\n",
       "        vertical-align: top;\n",
       "    }\n",
       "\n",
       "    .dataframe thead th {\n",
       "        text-align: right;\n",
       "    }\n",
       "</style>\n",
       "<table border=\"1\" class=\"dataframe\">\n",
       "  <thead>\n",
       "    <tr style=\"text-align: right;\">\n",
       "      <th></th>\n",
       "      <th>tripduration</th>\n",
       "      <th>start_station_id</th>\n",
       "      <th>start_station_latitude</th>\n",
       "      <th>start_station_longitude</th>\n",
       "      <th>end_station_id</th>\n",
       "      <th>end_station_latitude</th>\n",
       "      <th>end_station_longitude</th>\n",
       "      <th>bikeid</th>\n",
       "      <th>birth_year</th>\n",
       "      <th>gender</th>\n",
       "    </tr>\n",
       "  </thead>\n",
       "  <tbody>\n",
       "    <tr>\n",
       "      <th>count</th>\n",
       "      <td>19676.000000</td>\n",
       "      <td>19676.000000</td>\n",
       "      <td>19676.000000</td>\n",
       "      <td>19676.000000</td>\n",
       "      <td>19676.000000</td>\n",
       "      <td>19676.000000</td>\n",
       "      <td>19676.000000</td>\n",
       "      <td>19676.000000</td>\n",
       "      <td>19676.000000</td>\n",
       "      <td>19676.000000</td>\n",
       "    </tr>\n",
       "    <tr>\n",
       "      <th>mean</th>\n",
       "      <td>446.932812</td>\n",
       "      <td>3273.050315</td>\n",
       "      <td>40.722975</td>\n",
       "      <td>-74.046754</td>\n",
       "      <td>3268.876906</td>\n",
       "      <td>40.722587</td>\n",
       "      <td>-74.046250</td>\n",
       "      <td>28385.682964</td>\n",
       "      <td>1981.110287</td>\n",
       "      <td>1.182710</td>\n",
       "    </tr>\n",
       "    <tr>\n",
       "      <th>std</th>\n",
       "      <td>2109.019485</td>\n",
       "      <td>145.846496</td>\n",
       "      <td>0.007032</td>\n",
       "      <td>0.010746</td>\n",
       "      <td>142.936339</td>\n",
       "      <td>0.006819</td>\n",
       "      <td>0.010647</td>\n",
       "      <td>1542.198584</td>\n",
       "      <td>10.100201</td>\n",
       "      <td>0.455945</td>\n",
       "    </tr>\n",
       "    <tr>\n",
       "      <th>min</th>\n",
       "      <td>61.000000</td>\n",
       "      <td>3183.000000</td>\n",
       "      <td>40.709651</td>\n",
       "      <td>-74.083639</td>\n",
       "      <td>3183.000000</td>\n",
       "      <td>40.709651</td>\n",
       "      <td>-74.083639</td>\n",
       "      <td>17432.000000</td>\n",
       "      <td>1888.000000</td>\n",
       "      <td>0.000000</td>\n",
       "    </tr>\n",
       "    <tr>\n",
       "      <th>25%</th>\n",
       "      <td>209.000000</td>\n",
       "      <td>3192.000000</td>\n",
       "      <td>40.718489</td>\n",
       "      <td>-74.050656</td>\n",
       "      <td>3186.000000</td>\n",
       "      <td>40.718355</td>\n",
       "      <td>-74.050389</td>\n",
       "      <td>26275.000000</td>\n",
       "      <td>1976.000000</td>\n",
       "      <td>1.000000</td>\n",
       "    </tr>\n",
       "    <tr>\n",
       "      <th>50%</th>\n",
       "      <td>295.000000</td>\n",
       "      <td>3207.000000</td>\n",
       "      <td>40.721525</td>\n",
       "      <td>-74.044247</td>\n",
       "      <td>3205.000000</td>\n",
       "      <td>40.721124</td>\n",
       "      <td>-74.043845</td>\n",
       "      <td>29273.000000</td>\n",
       "      <td>1984.000000</td>\n",
       "      <td>1.000000</td>\n",
       "    </tr>\n",
       "    <tr>\n",
       "      <th>75%</th>\n",
       "      <td>452.000000</td>\n",
       "      <td>3273.000000</td>\n",
       "      <td>40.727224</td>\n",
       "      <td>-74.038526</td>\n",
       "      <td>3273.000000</td>\n",
       "      <td>40.727224</td>\n",
       "      <td>-74.038526</td>\n",
       "      <td>29525.000000</td>\n",
       "      <td>1989.000000</td>\n",
       "      <td>1.000000</td>\n",
       "    </tr>\n",
       "    <tr>\n",
       "      <th>max</th>\n",
       "      <td>187392.000000</td>\n",
       "      <td>3694.000000</td>\n",
       "      <td>40.748716</td>\n",
       "      <td>-74.032108</td>\n",
       "      <td>3694.000000</td>\n",
       "      <td>40.748716</td>\n",
       "      <td>-74.032108</td>\n",
       "      <td>34146.000000</td>\n",
       "      <td>2001.000000</td>\n",
       "      <td>2.000000</td>\n",
       "    </tr>\n",
       "  </tbody>\n",
       "</table>\n",
       "</div>"
      ],
      "text/plain": [
       "        tripduration  start_station_id  start_station_latitude  \\\n",
       "count   19676.000000      19676.000000            19676.000000   \n",
       "mean      446.932812       3273.050315               40.722975   \n",
       "std      2109.019485        145.846496                0.007032   \n",
       "min        61.000000       3183.000000               40.709651   \n",
       "25%       209.000000       3192.000000               40.718489   \n",
       "50%       295.000000       3207.000000               40.721525   \n",
       "75%       452.000000       3273.000000               40.727224   \n",
       "max    187392.000000       3694.000000               40.748716   \n",
       "\n",
       "       start_station_longitude  end_station_id  end_station_latitude  \\\n",
       "count             19676.000000    19676.000000          19676.000000   \n",
       "mean                -74.046754     3268.876906             40.722587   \n",
       "std                   0.010746      142.936339              0.006819   \n",
       "min                 -74.083639     3183.000000             40.709651   \n",
       "25%                 -74.050656     3186.000000             40.718355   \n",
       "50%                 -74.044247     3205.000000             40.721124   \n",
       "75%                 -74.038526     3273.000000             40.727224   \n",
       "max                 -74.032108     3694.000000             40.748716   \n",
       "\n",
       "       end_station_longitude        bikeid    birth_year        gender  \n",
       "count           19676.000000  19676.000000  19676.000000  19676.000000  \n",
       "mean              -74.046250  28385.682964   1981.110287      1.182710  \n",
       "std                 0.010647   1542.198584     10.100201      0.455945  \n",
       "min               -74.083639  17432.000000   1888.000000      0.000000  \n",
       "25%               -74.050389  26275.000000   1976.000000      1.000000  \n",
       "50%               -74.043845  29273.000000   1984.000000      1.000000  \n",
       "75%               -74.038526  29525.000000   1989.000000      1.000000  \n",
       "max               -74.032108  34146.000000   2001.000000      2.000000  "
      ]
     },
     "execution_count": 3,
     "metadata": {},
     "output_type": "execute_result"
    }
   ],
   "source": [
    "df.describe()"
   ]
  },
  {
   "cell_type": "code",
   "execution_count": 4,
   "metadata": {},
   "outputs": [
    {
     "name": "stdout",
     "output_type": "stream",
     "text": [
      "<class 'pandas.core.frame.DataFrame'>\n",
      "RangeIndex: 19676 entries, 0 to 19675\n",
      "Data columns (total 15 columns):\n",
      "tripduration               19676 non-null int64\n",
      "starttime                  19676 non-null object\n",
      "stoptime                   19676 non-null object\n",
      "start_station_id           19676 non-null int64\n",
      "start_station_name         19676 non-null object\n",
      "start_station_latitude     19676 non-null float64\n",
      "start_station_longitude    19676 non-null float64\n",
      "end_station_id             19676 non-null int64\n",
      "end_station_name           19676 non-null object\n",
      "end_station_latitude       19676 non-null float64\n",
      "end_station_longitude      19676 non-null float64\n",
      "bikeid                     19676 non-null int64\n",
      "usertype                   19676 non-null object\n",
      "birth_year                 19676 non-null int64\n",
      "gender                     19676 non-null int64\n",
      "dtypes: float64(4), int64(6), object(5)\n",
      "memory usage: 2.3+ MB\n"
     ]
    }
   ],
   "source": [
    "df.info()"
   ]
  },
  {
   "cell_type": "code",
   "execution_count": 5,
   "metadata": {},
   "outputs": [
    {
     "data": {
      "text/plain": [
       "tripduration               0\n",
       "starttime                  0\n",
       "stoptime                   0\n",
       "start_station_id           0\n",
       "start_station_name         0\n",
       "start_station_latitude     0\n",
       "start_station_longitude    0\n",
       "end_station_id             0\n",
       "end_station_name           0\n",
       "end_station_latitude       0\n",
       "end_station_longitude      0\n",
       "bikeid                     0\n",
       "usertype                   0\n",
       "birth_year                 0\n",
       "gender                     0\n",
       "dtype: int64"
      ]
     },
     "execution_count": 5,
     "metadata": {},
     "output_type": "execute_result"
    }
   ],
   "source": [
    "#how many missing values in df\n",
    "df.isnull().sum()"
   ]
  },
  {
   "cell_type": "code",
   "execution_count": 6,
   "metadata": {
    "scrolled": true
   },
   "outputs": [
    {
     "name": "stdout",
     "output_type": "stream",
     "text": [
      "usertype value counts\n"
     ]
    },
    {
     "data": {
      "text/plain": [
       "Subscriber    19267\n",
       "Customer        409\n",
       "Name: usertype, dtype: int64"
      ]
     },
     "execution_count": 6,
     "metadata": {},
     "output_type": "execute_result"
    }
   ],
   "source": [
    "df.birth_year.value_counts()\n",
    "print('usertype value counts'); df.usertype.value_counts()\n"
   ]
  },
  {
   "cell_type": "code",
   "execution_count": 7,
   "metadata": {},
   "outputs": [
    {
     "name": "stdout",
     "output_type": "stream",
     "text": [
      "gender counts\n"
     ]
    },
    {
     "data": {
      "text/plain": [
       "1    14929\n",
       "2     4171\n",
       "0      576\n",
       "Name: gender, dtype: int64"
      ]
     },
     "execution_count": 7,
     "metadata": {},
     "output_type": "execute_result"
    }
   ],
   "source": [
    "print('gender counts')\n",
    "df.gender.value_counts()"
   ]
  },
  {
   "cell_type": "code",
   "execution_count": 8,
   "metadata": {},
   "outputs": [
    {
     "name": "stdout",
     "output_type": "stream",
     "text": [
      "birth year counts\n"
     ]
    },
    {
     "data": {
      "text/plain": [
       "1988    1283\n",
       "1987    1157\n",
       "1989    1053\n",
       "1990     958\n",
       "1986     956\n",
       "1980     896\n",
       "1985     854\n",
       "1991     844\n",
       "1981     774\n",
       "1984     755\n",
       "Name: birth_year, dtype: int64"
      ]
     },
     "execution_count": 8,
     "metadata": {},
     "output_type": "execute_result"
    }
   ],
   "source": [
    "print('birth year counts')\n",
    "df.birth_year.value_counts().head(10)"
   ]
  }
 ],
 "metadata": {
  "kernelspec": {
   "display_name": "Python 3",
   "language": "python",
   "name": "python3"
  },
  "language_info": {
   "codemirror_mode": {
    "name": "ipython",
    "version": 3
   },
   "file_extension": ".py",
   "mimetype": "text/x-python",
   "name": "python",
   "nbconvert_exporter": "python",
   "pygments_lexer": "ipython3",
   "version": "3.7.0"
  }
 },
 "nbformat": 4,
 "nbformat_minor": 2
}
