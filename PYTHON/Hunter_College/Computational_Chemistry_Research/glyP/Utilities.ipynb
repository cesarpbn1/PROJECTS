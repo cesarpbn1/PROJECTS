{
 "cells": [
  {
   "cell_type": "code",
   "execution_count": 1,
   "metadata": {},
   "outputs": [],
   "source": [
    "import numpy\n",
    "from scipy import interpolate\n",
    "import sys\n",
    "from optparse import OptionParser\n",
    "\n"
   ]
  },
  {
   "cell_type": "code",
   "execution_count": 2,
   "metadata": {},
   "outputs": [],
   "source": [
    "def error(msg):\n",
    "   \"\"\" write error message and quit\n",
    "   \"\"\"\n",
    "   sys.stderr.write(msg + \"\\n\")\n",
    "   sys.exit(3)"
   ]
  },
  {
   "cell_type": "code",
   "execution_count": 3,
   "metadata": {},
   "outputs": [],
   "source": [
    "def deriv(spec,h):\n",
    "   \"\"\" calculate first derivative of function 'spec'\n",
    "       using the central finite difference method up to 6th order,\n",
    "       and for the first 3 and last 3 grid points the\n",
    "       forward/backward finite difference method up to 2nd order.\n",
    "       ...as used in f77-program and suggested by Zanazzi-Jona...\n",
    "   \"\"\" \n",
    "   der_spec =[[i[0],0] for i in spec]\n",
    "\n",
    "   length=len(spec)\n",
    "   for i in range(3,length-3):\n",
    "      der_spec[i][1]=(-1*spec[i-3][1]+9*spec[i-2][1]-45*spec[i-1][1]+45*spec[i+1][1]-9*spec[i+2][1]+1*spec[i+3][1])/(60*h)\n",
    "   for i in range(0,3):\n",
    "      der_spec[i][1]=(-11*spec[i][1]+18*spec[i+1][1]-9*spec[i+2][1]+2*spec[i+3][1])/(6*h)\n",
    "   for i in range(length-3,length):\n",
    "      der_spec[i][1]=(11*spec[i][1]-18*spec[i-1][1]+9*spec[i-2][1]-2*spec[i-3][1])/(6*h)\n",
    "\n",
    "   return der_spec"
   ]
  },
  {
   "cell_type": "code",
   "execution_count": 4,
   "metadata": {},
   "outputs": [],
   "source": [
    "def get_range(tspec,espec,w_incr,shift,start,stop):\n",
    "   \"\"\" determine wavenumber range within the comparison between theoretical\n",
    "       and experimental spectrum is performed (depends on the shift)\n",
    "   \"\"\"\n",
    "   de1=start+shift-espec[0][0]\n",
    "   if (de1 >= 0 ):\n",
    "      de1=int((start+shift-espec[0][0])/w_incr+0.00001)\n",
    "      enstart=de1\n",
    "      tnstart=int((start-tspec[0][0])/w_incr+0.00001)\n",
    "   else:\n",
    "      de1=int((start+shift-espec[0][0])/w_incr-0.00001)\n",
    "      enstart=0\n",
    "      tnstart=int((start-tspec[0][0])/w_incr-de1+0.00001)\n",
    "   de2=stop+shift-espec[-1][0]\n",
    "   if (de2 <= 0 ):\n",
    "      de2=int((stop+shift-espec[-1][0])/w_incr-0.00001)\n",
    "      enstop=len(espec)+de2\n",
    "      tnstop=len(tspec)+int((stop-tspec[-1][0])/w_incr-0.00001) \n",
    "   else:\n",
    "      de2=int((stop+shift-espec[-1][0])/w_incr+0.00001)\n",
    "      enstop=len(espec)\n",
    "      tnstop=len(tspec)+int((stop-tspec[-1][0])/w_incr-de2-0.00001)\n",
    "   return tnstart, tnstop, enstart, enstop\n",
    " \n"
   ]
  },
  {
   "cell_type": "code",
   "execution_count": null,
   "metadata": {},
   "outputs": [],
   "source": []
  }
 ],
 "metadata": {
  "kernelspec": {
   "display_name": "Python 2",
   "language": "python",
   "name": "python2"
  },
  "language_info": {
   "codemirror_mode": {
    "name": "ipython",
    "version": 2
   },
   "file_extension": ".py",
   "mimetype": "text/x-python",
   "name": "python",
   "nbconvert_exporter": "python",
   "pygments_lexer": "ipython2",
   "version": "2.7.15"
  }
 },
 "nbformat": 4,
 "nbformat_minor": 2
}
